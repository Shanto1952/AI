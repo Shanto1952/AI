{
  "nbformat": 4,
  "nbformat_minor": 0,
  "metadata": {
    "colab": {
      "provenance": [],
      "authorship_tag": "ABX9TyOcOGePgD9TlMoAxPnlVmLK",
      "include_colab_link": true
    },
    "kernelspec": {
      "name": "python3",
      "display_name": "Python 3"
    },
    "language_info": {
      "name": "python"
    }
  },
  "cells": [
    {
      "cell_type": "markdown",
      "metadata": {
        "id": "view-in-github",
        "colab_type": "text"
      },
      "source": [
        "<a href=\"https://colab.research.google.com/github/Shanto1952/AI/blob/main/News_Detect.ipynb\" target=\"_parent\"><img src=\"https://colab.research.google.com/assets/colab-badge.svg\" alt=\"Open In Colab\"/></a>"
      ]
    },
    {
      "cell_type": "code",
      "execution_count": 13,
      "metadata": {
        "colab": {
          "base_uri": "https://localhost:8080/"
        },
        "id": "9lO_zMHw5OZ0",
        "outputId": "4a7f1067-6335-48c2-f1ad-1adac0045e86"
      },
      "outputs": [
        {
          "output_type": "stream",
          "name": "stdout",
          "text": [
            "\n",
            "Category Mapping:\n",
            "{'the game': 0, 'political': 1, 'education': 2}\n",
            "\n",
            "Processed Dataset Head:\n",
            "    Category  category_label  \\\n",
            "0   the game               0   \n",
            "1   the game               0   \n",
            "2  political               1   \n",
            "3   the game               0   \n",
            "4  political               1   \n",
            "\n",
            "                                                text  \n",
            "0  Pakistan's star all-rounder will score 22 yard...  \n",
            "1  Sports village will be in Dhaka with 55 federa...  \n",
            "2  People will not accept inefficiency in governm...  \n",
            "3  Sohan wants to use the experience of global T2...  \n",
            "4  'Bangladesh deprived of fair share of water of...  \n",
            "\n",
            "Dataset Split:\n",
            "Original dataset contains 89 rows\n",
            "Training dataset contains 66 rows\n",
            "Testing dataset contains 23 rows\n",
            "\n",
            "Vectorized Data:\n",
            "Training data shape: (66, 1374)\n",
            "Testing data shape: (23, 1374)\n",
            "\n",
            "Model Evaluation:\n",
            "Accuracy score: 0.91\n",
            "Confusion matrix:\n",
            " [[ 8  0  0]\n",
            " [ 2 11  0]\n",
            " [ 0  0  2]]\n",
            "\n",
            "Example Predictions:\n",
            "1: Category: political\n",
            "2: Category: political\n",
            "3: Category: the game\n",
            "4: Category: education\n",
            "5: Category: political\n",
            "6: Category: the game\n",
            "7: Category: political\n",
            "8: Category: the game\n",
            "9: Category: political\n",
            "10: Category: the game\n"
          ]
        }
      ],
      "source": [
        "import pandas as pd\n",
        "from sklearn.model_selection import train_test_split\n",
        "from sklearn.feature_extraction.text import CountVectorizer\n",
        "from sklearn.naive_bayes import MultinomialNB\n",
        "from sklearn.metrics import accuracy_score, confusion_matrix\n",
        "\n",
        "\n",
        "df = pd.read_csv('/content/News_Dataset.csv', sep=',')\n",
        "\n",
        "df['text'] = df['Title'] + \" \" + df['Description']\n",
        "\n",
        "category_mapping = {category: idx for idx, category in enumerate(df['Category'].unique())}\n",
        "df['category_label'] = df['Category'].map(category_mapping)\n",
        "\n",
        "print(\"\\nCategory Mapping:\")\n",
        "print(category_mapping)\n",
        "\n",
        "print(\"\\nProcessed Dataset Head:\")\n",
        "print(df[['Category', 'category_label', 'text']].head())\n",
        "\n",
        "X_train, X_test, y_train, y_test = train_test_split(\n",
        "    df['text'], df['category_label'], random_state=1, stratify=df['category_label']\n",
        ")\n",
        "\n",
        "print(\"\\nDataset Split:\")\n",
        "print(f\"Original dataset contains {df.shape[0]} rows\")\n",
        "print(f\"Training dataset contains {X_train.shape[0]} rows\")\n",
        "print(f\"Testing dataset contains {X_test.shape[0]} rows\")\n",
        "\n",
        "count_vector = CountVectorizer(stop_words='english', max_features=5000)\n",
        "\n",
        "training_data = count_vector.fit_transform(X_train)\n",
        "testing_data = count_vector.transform(X_test)\n",
        "\n",
        "print(\"\\nVectorized Data:\")\n",
        "print(f\"Training data shape: {training_data.shape}\")\n",
        "print(f\"Testing data shape: {testing_data.shape}\")\n",
        "\n",
        "naive_bayes = MultinomialNB()\n",
        "naive_bayes.fit(training_data, y_train)\n",
        "\n",
        "predictions = naive_bayes.predict(testing_data)\n",
        "\n",
        "print(\"\\nModel Evaluation:\")\n",
        "print(f\"Accuracy score: {accuracy_score(y_test, predictions):.2f}\")\n",
        "print(\"Confusion matrix:\\n\", confusion_matrix(y_test, predictions))\n",
        "\n",
        "def classify_text(text):\n",
        "    prediction = naive_bayes.predict(count_vector.transform([text]))\n",
        "    return list(category_mapping.keys())[list(category_mapping.values()).index(prediction[0])]\n",
        "\n",
        "print(\"\\nExample Predictions:\")\n",
        "news= [\n",
        "    \"Bangladesh Calls for Fair Climate Finance at COP29\",\n",
        "    \"UN Report Highlights Bangladesh's Vulnerability to Rising Methane Emissions\",\n",
        "    \"Argentina-Brazil are entering the field in a different match in World Cup qualifiers\",\n",
        "    \"Failed HSC candidates lock Mymensingh Education Board gates with officials inside\",\n",
        "    \"Global Climate Initiatives Must Address Bangladesh’s Flood Risks\",\n",
        "    \"Bangladesh Football Makes Strides Toward International Success\",\n",
        "    \"New Policies to Address Corruption Announced by the Government\",\n",
        "    \"BD Sports Weekly: Highlights and Upcoming Matches\",\n",
        "    \"Bangladesh Prepares for Regional Leadership Role in Climate Adaptation\",\n",
        "    \"Debates Continue Over Bangladesh's Support for UN Peacekeeping Missions\"\n",
        "]\n",
        "\n",
        "\n",
        "for i, case in enumerate(news, start=1):\n",
        "    print(f\"{i}: Category: {classify_text(case)}\")\n",
        "\n"
      ]
    }
  ]
}